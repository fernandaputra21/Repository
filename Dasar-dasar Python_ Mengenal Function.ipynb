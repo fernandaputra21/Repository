{
 "cells": [
  {
   "cell_type": "code",
   "execution_count": 1,
   "metadata": {},
   "outputs": [],
   "source": [
    "# Mengenal Function pada Python #"
   ]
  },
  {
   "cell_type": "code",
   "execution_count": 24,
   "metadata": {},
   "outputs": [],
   "source": [
    "# Fungsi Rata-rata #\n",
    "def mean(data):\n",
    "    jml = 0\n",
    "    for i in data:\n",
    "        jml += i     \n",
    "    rata = jml/len(data)\n",
    "    return rata"
   ]
  },
  {
   "cell_type": "code",
   "execution_count": 25,
   "metadata": {},
   "outputs": [],
   "source": [
    "angka = [1, 2, 3, 4, 5]"
   ]
  },
  {
   "cell_type": "code",
   "execution_count": 26,
   "metadata": {},
   "outputs": [
    {
     "name": "stdout",
     "output_type": "stream",
     "text": [
      "3.0\n"
     ]
    }
   ],
   "source": [
    "print(mean(angka))"
   ]
  },
  {
   "cell_type": "code",
   "execution_count": 90,
   "metadata": {},
   "outputs": [],
   "source": [
    "# Fungsi Faktorial #\n",
    "def faktorial(angka):\n",
    "    if angka <= 1:\n",
    "        return 1\n",
    "    else:\n",
    "        i = 1\n",
    "        faktor = 1\n",
    "        while i <= angka:\n",
    "            faktor = faktor*i\n",
    "            i +=1\n",
    "        return faktor"
   ]
  },
  {
   "cell_type": "code",
   "execution_count": 97,
   "metadata": {},
   "outputs": [
    {
     "name": "stdout",
     "output_type": "stream",
     "text": [
      "Masukkan input\n",
      "5\n",
      "120\n"
     ]
    }
   ],
   "source": [
    "print(\"Masukkan input\")\n",
    "n = int(input())\n",
    "print(faktorial(n))"
   ]
  },
  {
   "cell_type": "code",
   "execution_count": 105,
   "metadata": {},
   "outputs": [],
   "source": [
    "# Fungsi sort max #\n",
    "def maksimum(data):\n",
    "    maks = -9999\n",
    "    for angka in data:\n",
    "        if angka > maks:\n",
    "            maks = angka\n",
    "    return maks"
   ]
  },
  {
   "cell_type": "code",
   "execution_count": 112,
   "metadata": {},
   "outputs": [],
   "source": [
    "list_angka = [91, 82, 3, 64, 87, 73, 48, 100, 39, 31]"
   ]
  },
  {
   "cell_type": "code",
   "execution_count": 113,
   "metadata": {},
   "outputs": [
    {
     "name": "stdout",
     "output_type": "stream",
     "text": [
      "100\n"
     ]
    }
   ],
   "source": [
    "print(maksimum(list_angka))"
   ]
  },
  {
   "cell_type": "code",
   "execution_count": 114,
   "metadata": {},
   "outputs": [],
   "source": [
    "# Fungsi sort min #\n",
    "def minimum(data):\n",
    "    mini = 9999\n",
    "    for angka in data:\n",
    "        if angka < mini:\n",
    "            mini = angka\n",
    "    return mini"
   ]
  },
  {
   "cell_type": "code",
   "execution_count": 115,
   "metadata": {},
   "outputs": [
    {
     "name": "stdout",
     "output_type": "stream",
     "text": [
      "3\n"
     ]
    }
   ],
   "source": [
    "print(minimum(list_angka))"
   ]
  },
  {
   "cell_type": "code",
   "execution_count": null,
   "metadata": {},
   "outputs": [],
   "source": []
  }
 ],
 "metadata": {
  "kernelspec": {
   "display_name": "Python 3",
   "language": "python",
   "name": "python3"
  },
  "language_info": {
   "codemirror_mode": {
    "name": "ipython",
    "version": 3
   },
   "file_extension": ".py",
   "mimetype": "text/x-python",
   "name": "python",
   "nbconvert_exporter": "python",
   "pygments_lexer": "ipython3",
   "version": "3.8.3"
  }
 },
 "nbformat": 4,
 "nbformat_minor": 4
}
