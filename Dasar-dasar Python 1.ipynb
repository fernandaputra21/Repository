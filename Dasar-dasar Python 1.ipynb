{
 "cells": [
  {
   "cell_type": "code",
   "execution_count": 2,
   "metadata": {},
   "outputs": [],
   "source": [
    "# Belajar Python #"
   ]
  },
  {
   "cell_type": "code",
   "execution_count": 3,
   "metadata": {},
   "outputs": [],
   "source": [
    "# Memanggil Library #\n",
    "import pandas as pd\n",
    "import numpy as np\n",
    "import math\n",
    "import matplotlib.pyplot as plt"
   ]
  },
  {
   "cell_type": "code",
   "execution_count": 5,
   "metadata": {},
   "outputs": [
    {
     "name": "stdout",
     "output_type": "stream",
     "text": [
      "16\n",
      "Anak-anak\n",
      "remaja\n",
      "dewasa\n"
     ]
    }
   ],
   "source": [
    "# Memahami Struktur Logika pada Python #\n",
    "# Logika dengan if dan else #\n",
    "usia = int(input()) #definisikan suatu variabel input\n",
    "if usia < 17:\n",
    "    print(\"Anak-anak\")\n",
    "if usia < 20:\n",
    "    print(\"remaja\")\n",
    "if usia < 50:\n",
    "    print(\"dewasa\")\n",
    "else:\n",
    "    print(\"sudah tua\")"
   ]
  },
  {
   "cell_type": "code",
   "execution_count": 6,
   "metadata": {},
   "outputs": [
    {
     "name": "stdout",
     "output_type": "stream",
     "text": [
      "16\n",
      "Anak-anak\n"
     ]
    }
   ],
   "source": [
    "# Logika dengan elif #\n",
    "usia = int(input()) #definisikan suatu variabel input\n",
    "if usia < 17:\n",
    "    print(\"Anak-anak\")\n",
    "elif usia < 20:\n",
    "    print(\"remaja\")\n",
    "elif usia < 50:\n",
    "    print(\"dewasa\")\n",
    "else:\n",
    "    print(\"sudah tua\")"
   ]
  },
  {
   "cell_type": "code",
   "execution_count": null,
   "metadata": {},
   "outputs": [],
   "source": [
    "# Dapat dilihat perbedaan dari output untuk variabel dan condition yang sama antara if-else dengan elif #"
   ]
  },
  {
   "cell_type": "code",
   "execution_count": 7,
   "metadata": {},
   "outputs": [],
   "source": [
    "# Memahami Konsep Pengulangan/Loop #\n",
    "# Dapat dilakukan dengan while, for, ataupun in range #"
   ]
  },
  {
   "cell_type": "code",
   "execution_count": 8,
   "metadata": {},
   "outputs": [
    {
     "name": "stdout",
     "output_type": "stream",
     "text": [
      "0\n",
      "1\n",
      "2\n",
      "3\n",
      "4\n",
      "5\n",
      "6\n",
      "7\n",
      "8\n",
      "9\n"
     ]
    }
   ],
   "source": [
    "# Contoh loop dengan while #\n",
    "i = 0\n",
    "while i < 10:\n",
    "    print(i)\n",
    "    i += 1"
   ]
  },
  {
   "cell_type": "code",
   "execution_count": 9,
   "metadata": {},
   "outputs": [
    {
     "name": "stdout",
     "output_type": "stream",
     "text": [
      "0\n",
      "1\n",
      "2\n",
      "3\n",
      "4\n",
      "5\n",
      "6\n",
      "7\n",
      "8\n",
      "9\n",
      "selesai\n"
     ]
    }
   ],
   "source": [
    "i = 0\n",
    "while i < 10:\n",
    "    print(i)\n",
    "    i += 1\n",
    "print(\"selesai\")"
   ]
  },
  {
   "cell_type": "code",
   "execution_count": 11,
   "metadata": {},
   "outputs": [
    {
     "name": "stdout",
     "output_type": "stream",
     "text": [
      "Senin\n",
      "Selasa\n",
      "Rabu\n",
      "Kamis\n",
      "Jum'at\n",
      "Sabtu\n",
      "Minggu\n"
     ]
    }
   ],
   "source": [
    "# Contoh loop dengan for #\n",
    "list_hari = [\"Senin\", \"Selasa\", \"Rabu\", \"Kamis\", \"Jum'at\", \"Sabtu\", \"Minggu\"]\n",
    "for hari in list_hari:\n",
    "    print (hari)"
   ]
  },
  {
   "cell_type": "code",
   "execution_count": 14,
   "metadata": {},
   "outputs": [
    {
     "name": "stdout",
     "output_type": "stream",
     "text": [
      "1\n",
      "3\n",
      "5\n",
      "7\n",
      "9\n",
      "11\n",
      "13\n",
      "15\n",
      "17\n",
      "19\n"
     ]
    }
   ],
   "source": [
    "for j in range (1,20,2):\n",
    "    print(j)"
   ]
  },
  {
   "cell_type": "code",
   "execution_count": 16,
   "metadata": {},
   "outputs": [
    {
     "name": "stdout",
     "output_type": "stream",
     "text": [
      "1 1\n",
      "1 2\n",
      "1 3\n",
      "1 4\n",
      "2 1\n",
      "2 2\n",
      "2 3\n",
      "2 4\n",
      "3 1\n",
      "3 2\n",
      "3 3\n",
      "3 4\n",
      "4 1\n",
      "4 2\n",
      "4 3\n",
      "4 4\n"
     ]
    }
   ],
   "source": [
    "# Contoh nester loop (loop di dalam loop) #\n",
    "for i in range (1,5):\n",
    "    for j in range (1,5):\n",
    "        print(i,j)"
   ]
  },
  {
   "cell_type": "code",
   "execution_count": 20,
   "metadata": {},
   "outputs": [
    {
     "name": "stdout",
     "output_type": "stream",
     "text": [
      "111\n",
      "112\n",
      "113\n",
      "114\n",
      "115\n",
      "116\n",
      "121\n",
      "122\n",
      "123\n",
      "124\n",
      "125\n",
      "126\n",
      "131\n",
      "132\n",
      "133\n",
      "134\n",
      "135\n",
      "136\n",
      "141\n",
      "142\n",
      "143\n",
      "144\n",
      "145\n",
      "146\n",
      "151\n",
      "152\n",
      "153\n",
      "154\n",
      "155\n",
      "156\n",
      "161\n",
      "162\n",
      "163\n",
      "164\n",
      "165\n",
      "166\n",
      "212\n",
      "213\n",
      "214\n",
      "215\n",
      "216\n",
      "222\n",
      "223\n",
      "224\n",
      "225\n",
      "226\n",
      "232\n",
      "233\n",
      "234\n",
      "235\n",
      "236\n",
      "242\n",
      "243\n",
      "244\n",
      "245\n",
      "246\n",
      "252\n",
      "253\n",
      "254\n",
      "255\n",
      "256\n",
      "262\n",
      "263\n",
      "264\n",
      "265\n",
      "266\n",
      "313\n",
      "314\n",
      "315\n",
      "316\n",
      "323\n",
      "324\n",
      "325\n",
      "326\n",
      "333\n",
      "334\n",
      "335\n",
      "336\n",
      "343\n",
      "344\n",
      "345\n",
      "346\n",
      "353\n",
      "354\n",
      "355\n",
      "356\n",
      "363\n",
      "364\n",
      "365\n",
      "366\n",
      "414\n",
      "415\n",
      "416\n",
      "424\n",
      "425\n",
      "426\n",
      "434\n",
      "435\n",
      "436\n",
      "444\n",
      "445\n",
      "446\n",
      "454\n",
      "455\n",
      "456\n",
      "464\n",
      "465\n",
      "466\n",
      "515\n",
      "516\n",
      "525\n",
      "526\n",
      "535\n",
      "536\n",
      "545\n",
      "546\n",
      "555\n",
      "556\n",
      "565\n",
      "566\n",
      "616\n",
      "626\n",
      "636\n",
      "646\n",
      "656\n",
      "666\n"
     ]
    }
   ],
   "source": [
    "for i in range (1,7):\n",
    "    for j in range (1,7):\n",
    "        for k in range (i,7):\n",
    "            kombinasi = str(i) + str(j) + str(k)\n",
    "            print(kombinasi)"
   ]
  },
  {
   "cell_type": "code",
   "execution_count": null,
   "metadata": {},
   "outputs": [],
   "source": []
  }
 ],
 "metadata": {
  "kernelspec": {
   "display_name": "Python 3",
   "language": "python",
   "name": "python3"
  },
  "language_info": {
   "codemirror_mode": {
    "name": "ipython",
    "version": 3
   },
   "file_extension": ".py",
   "mimetype": "text/x-python",
   "name": "python",
   "nbconvert_exporter": "python",
   "pygments_lexer": "ipython3",
   "version": "3.8.3"
  }
 },
 "nbformat": 4,
 "nbformat_minor": 4
}
